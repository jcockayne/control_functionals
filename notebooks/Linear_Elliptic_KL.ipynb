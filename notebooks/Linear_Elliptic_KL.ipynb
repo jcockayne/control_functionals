{
 "cells": [
  {
   "cell_type": "code",
   "execution_count": 1,
   "metadata": {
    "collapsed": false
   },
   "outputs": [
    {
     "name": "stdout",
     "output_type": "stream",
     "text": [
      "10096\n"
     ]
    }
   ],
   "source": [
    "%matplotlib inline\n",
    "import matplotlib.pyplot as plt\n",
    "import numpy as np\n",
    "import sympy as sp\n",
    "sp.init_printing()\n",
    "import bayesian_pdes as bpdes\n",
    "import matplotlib\n",
    "import mcmc\n",
    "#matplotlib.rc('text', usetex=True)\n",
    "#matplotlib.rcParams['text.latex.unicode'] = True\n",
    "import os\n",
    "print os.getpid()"
   ]
  },
  {
   "cell_type": "code",
   "execution_count": 2,
   "metadata": {
    "collapsed": false
   },
   "outputs": [
    {
     "name": "stdout",
     "output_type": "stream",
     "text": [
      "[ 0.00288479 -0.00462954 -0.01338004  0.02317016 -0.01467376 -0.00748548\n",
      " -0.01017521  0.01635067  0.00922546 -0.00719881 -0.00964883  0.00253583\n",
      "  0.00308007 -0.00071606 -0.01135481 -0.00102245  0.00808186  0.00231992\n",
      " -0.01400358  0.00715908 -0.02124568  0.01241413  0.00236312 -0.01088892\n",
      "  0.00717759  0.00043404 -0.00295264 -0.00197158  0.0080786  -0.01076756\n",
      "  0.00491333 -0.00451136  0.0019659  -0.02158416  0.00522697  0.00194262]\n"
     ]
    }
   ],
   "source": [
    "true = np.loadtxt('true_linear_elliptic.txt')\n",
    "true_x = true[:,:2]\n",
    "seed = 124\n",
    "np.random.seed(seed)\n",
    "r = np.random.normal(0, 0.01, len(true))\n",
    "print r\n",
    "true_u = (true[:,2] + r).reshape((len(true), 1))"
   ]
  },
  {
   "cell_type": "code",
   "execution_count": 3,
   "metadata": {
    "collapsed": false
   },
   "outputs": [],
   "source": [
    "coefs = [\n",
    "    (0,0),\n",
    "    (1,0),\n",
    "    (0,1),\n",
    "    (1,1),\n",
    "    (2,0),\n",
    "    (0,2)\n",
    "]"
   ]
  },
  {
   "cell_type": "code",
   "execution_count": 4,
   "metadata": {
    "collapsed": false
   },
   "outputs": [],
   "source": [
    "S = len(coefs)\n",
    "x_1, x_2, y_1, y_2 = sp.symbols('x_1 x_2 y_1 y_2')\n",
    "thetas = list(sp.symbols(' '.join(['theta_{}'.format(i) for i in xrange(S)])))\n",
    "def get_c(x_1, x_2):\n",
    "    c = sp.exp(sum([theta*sp.cos(2*sp.pi*(coefs[i][0]*x_1+coefs[i][1]*x_2)) / (i+1)**2 for i,theta in enumerate(thetas)]))\n",
    "    return c"
   ]
  },
  {
   "cell_type": "code",
   "execution_count": 5,
   "metadata": {
    "collapsed": false
   },
   "outputs": [],
   "source": [
    "length_scale = 0.2\n",
    "k_sqexp = sp.exp(-((x_1-y_1)**2 + (x_2-y_2)**2) / (2*length_scale**2))\n",
    "A = lambda k: (get_c(x_1, x_2)*k.diff(x_1)).diff(x_1) + (get_c(x_1, x_2)*k.diff(x_2)).diff(x_2)\n",
    "Abar = lambda k: (get_c(y_1, y_2)*k.diff(y_1)).diff(y_1) + (get_c(y_1, y_2)*k.diff(y_2)).diff(y_2)\n",
    "Identity = lambda k: k\n",
    "B_1 = Identity\n",
    "B_1_bar = Identity\n",
    "B_2 = lambda k: k.diff(x_1)\n",
    "B_2_bar = lambda k: k.diff(y_1)"
   ]
  },
  {
   "cell_type": "code",
   "execution_count": 18,
   "metadata": {
    "collapsed": false
   },
   "outputs": [
    {
     "ename": "WindowsError",
     "evalue": "[Error 5] Access is denied: 'c:\\\\users\\\\jon\\\\appdata\\\\local\\\\temp\\\\tmptmf3gv_sympy_compile\\\\wrapper_module_0.pyd'",
     "output_type": "error",
     "traceback": [
      "\u001b[1;31m---------------------------------------------------------------------------\u001b[0m",
      "\u001b[1;31mWindowsError\u001b[0m                              Traceback (most recent call last)",
      "\u001b[1;32m<ipython-input-18-46633bfb8f75>\u001b[0m in \u001b[0;36m<module>\u001b[1;34m()\u001b[0m\n\u001b[0;32m      1\u001b[0m \u001b[0mops\u001b[0m \u001b[1;33m=\u001b[0m \u001b[1;33m[\u001b[0m\u001b[0mA\u001b[0m\u001b[1;33m,\u001b[0m \u001b[0mB_1\u001b[0m\u001b[1;33m,\u001b[0m \u001b[0mB_2\u001b[0m\u001b[1;33m]\u001b[0m\u001b[1;33m\u001b[0m\u001b[0m\n\u001b[0;32m      2\u001b[0m \u001b[0mops_bar\u001b[0m \u001b[1;33m=\u001b[0m \u001b[1;33m[\u001b[0m\u001b[0mAbar\u001b[0m\u001b[1;33m,\u001b[0m \u001b[0mB_1_bar\u001b[0m\u001b[1;33m,\u001b[0m \u001b[0mB_2_bar\u001b[0m\u001b[1;33m]\u001b[0m\u001b[1;33m\u001b[0m\u001b[0m\n\u001b[1;32m----> 3\u001b[1;33m \u001b[0mop_cache\u001b[0m \u001b[1;33m=\u001b[0m \u001b[0mbpdes\u001b[0m\u001b[1;33m.\u001b[0m\u001b[0moperator_compilation\u001b[0m\u001b[1;33m.\u001b[0m\u001b[0mcompile_sympy\u001b[0m\u001b[1;33m(\u001b[0m\u001b[0mops\u001b[0m\u001b[1;33m,\u001b[0m \u001b[0mops_bar\u001b[0m\u001b[1;33m,\u001b[0m \u001b[0mk_sqexp\u001b[0m\u001b[1;33m,\u001b[0m \u001b[1;33m[\u001b[0m\u001b[1;33m[\u001b[0m\u001b[0mx_1\u001b[0m\u001b[1;33m,\u001b[0m \u001b[0mx_2\u001b[0m\u001b[1;33m]\u001b[0m\u001b[1;33m,\u001b[0m \u001b[1;33m[\u001b[0m\u001b[0my_1\u001b[0m\u001b[1;33m,\u001b[0m \u001b[0my_2\u001b[0m\u001b[1;33m]\u001b[0m\u001b[1;33m,\u001b[0m \u001b[0mthetas\u001b[0m\u001b[1;33m]\u001b[0m\u001b[1;33m,\u001b[0m \u001b[0mmode\u001b[0m\u001b[1;33m=\u001b[0m\u001b[1;34m'cython'\u001b[0m\u001b[1;33m)\u001b[0m\u001b[1;33m\u001b[0m\u001b[0m\n\u001b[0m\u001b[0;32m      4\u001b[0m \u001b[1;31m#op_cache = compiled_oc\u001b[0m\u001b[1;33m\u001b[0m\u001b[1;33m\u001b[0m\u001b[0m\n",
      "\u001b[1;32mc:\\users\\jon\\coding\\bayesian_pdes\\bayesian_pdes\\operator_compilation.pyc\u001b[0m in \u001b[0;36mcompile_sympy\u001b[1;34m(operators, operators_bar, k, symbols, mode, sympy_function_kwargs, debug)\u001b[0m\n\u001b[0;32m      7\u001b[0m \u001b[1;32mdef\u001b[0m \u001b[0mcompile_sympy\u001b[0m\u001b[1;33m(\u001b[0m\u001b[0moperators\u001b[0m\u001b[1;33m,\u001b[0m \u001b[0moperators_bar\u001b[0m\u001b[1;33m,\u001b[0m \u001b[0mk\u001b[0m\u001b[1;33m,\u001b[0m \u001b[0msymbols\u001b[0m\u001b[1;33m,\u001b[0m \u001b[0mmode\u001b[0m\u001b[1;33m=\u001b[0m\u001b[0mNone\u001b[0m\u001b[1;33m,\u001b[0m \u001b[0msympy_function_kwargs\u001b[0m\u001b[1;33m=\u001b[0m\u001b[0mNone\u001b[0m\u001b[1;33m,\u001b[0m \u001b[0mdebug\u001b[0m\u001b[1;33m=\u001b[0m\u001b[0mFalse\u001b[0m\u001b[1;33m)\u001b[0m\u001b[1;33m:\u001b[0m\u001b[1;33m\u001b[0m\u001b[0m\n\u001b[0;32m      8\u001b[0m     ret = {\n\u001b[1;32m----> 9\u001b[1;33m         \u001b[0mtuple\u001b[0m\u001b[1;33m(\u001b[0m\u001b[1;33m)\u001b[0m\u001b[1;33m:\u001b[0m \u001b[0m__functionize\u001b[0m\u001b[1;33m(\u001b[0m\u001b[0mk\u001b[0m\u001b[1;33m,\u001b[0m \u001b[0msymbols\u001b[0m\u001b[1;33m,\u001b[0m \u001b[0mmode\u001b[0m\u001b[1;33m=\u001b[0m\u001b[0mmode\u001b[0m\u001b[1;33m,\u001b[0m \u001b[0msympy_function_kwargs\u001b[0m\u001b[1;33m=\u001b[0m\u001b[0msympy_function_kwargs\u001b[0m\u001b[1;33m)\u001b[0m\u001b[1;33m\u001b[0m\u001b[0m\n\u001b[0m\u001b[0;32m     10\u001b[0m     }\n\u001b[0;32m     11\u001b[0m     \u001b[1;32mfor\u001b[0m \u001b[0mop\u001b[0m \u001b[1;32min\u001b[0m \u001b[0moperators\u001b[0m\u001b[1;33m:\u001b[0m\u001b[1;33m\u001b[0m\u001b[0m\n",
      "\u001b[1;32mc:\\users\\jon\\coding\\bayesian_pdes\\bayesian_pdes\\operator_compilation.pyc\u001b[0m in \u001b[0;36m__functionize\u001b[1;34m(fun, symbols, mode, apply_factory, sympy_function_kwargs)\u001b[0m\n\u001b[0;32m     35\u001b[0m     \u001b[1;32mif\u001b[0m \u001b[0msympy_function_kwargs\u001b[0m \u001b[1;32mis\u001b[0m \u001b[0mNone\u001b[0m\u001b[1;33m:\u001b[0m\u001b[1;33m\u001b[0m\u001b[0m\n\u001b[0;32m     36\u001b[0m         \u001b[0msympy_function_kwargs\u001b[0m \u001b[1;33m=\u001b[0m \u001b[1;33m{\u001b[0m\u001b[1;33m}\u001b[0m\u001b[1;33m\u001b[0m\u001b[0m\n\u001b[1;32m---> 37\u001b[1;33m     \u001b[0msympy_fun\u001b[0m \u001b[1;33m=\u001b[0m \u001b[0msympy_function\u001b[0m\u001b[1;33m(\u001b[0m\u001b[0mfun\u001b[0m\u001b[1;33m,\u001b[0m \u001b[0msymbols\u001b[0m\u001b[1;33m,\u001b[0m \u001b[0mmode\u001b[0m\u001b[1;33m=\u001b[0m\u001b[0mmode\u001b[0m\u001b[1;33m,\u001b[0m \u001b[0mapply_factory\u001b[0m\u001b[1;33m=\u001b[0m\u001b[0mapply_factory\u001b[0m\u001b[1;33m,\u001b[0m \u001b[1;33m**\u001b[0m\u001b[0msympy_function_kwargs\u001b[0m\u001b[1;33m)\u001b[0m\u001b[1;33m\u001b[0m\u001b[0m\n\u001b[0m\u001b[0;32m     38\u001b[0m \u001b[1;33m\u001b[0m\u001b[0m\n\u001b[0;32m     39\u001b[0m     \u001b[1;32mdef\u001b[0m \u001b[0m__ret_function\u001b[0m\u001b[1;33m(\u001b[0m\u001b[0ma\u001b[0m\u001b[1;33m,\u001b[0m \u001b[0mb\u001b[0m\u001b[1;33m,\u001b[0m \u001b[0mextra\u001b[0m\u001b[1;33m=\u001b[0m\u001b[0mNone\u001b[0m\u001b[1;33m)\u001b[0m\u001b[1;33m:\u001b[0m\u001b[1;33m\u001b[0m\u001b[0m\n",
      "\u001b[1;32mc:\\users\\jon\\coding\\bayesian_pdes\\bayesian_pdes\\sympy_helpers.pyc\u001b[0m in \u001b[0;36msympy_function\u001b[1;34m(sympy_expression, sympy_symbols, mode, lambdify_modules, apply_factory)\u001b[0m\n\u001b[0;32m     75\u001b[0m         \u001b[0msympyd\u001b[0m \u001b[1;33m=\u001b[0m \u001b[0mlambdify\u001b[0m\u001b[1;33m(\u001b[0m\u001b[0mflattened\u001b[0m\u001b[1;33m,\u001b[0m \u001b[0msympy_expression\u001b[0m\u001b[1;33m,\u001b[0m \u001b[0mmodules\u001b[0m\u001b[1;33m=\u001b[0m\u001b[0mlambdify_modules\u001b[0m\u001b[1;33m)\u001b[0m\u001b[1;33m\u001b[0m\u001b[0m\n\u001b[0;32m     76\u001b[0m     \u001b[1;32melif\u001b[0m \u001b[0mmode\u001b[0m\u001b[1;33m.\u001b[0m\u001b[0mlower\u001b[0m\u001b[1;33m(\u001b[0m\u001b[1;33m)\u001b[0m \u001b[1;32min\u001b[0m \u001b[1;33m[\u001b[0m\u001b[1;34m'cython'\u001b[0m\u001b[1;33m,\u001b[0m \u001b[1;34m'fortran'\u001b[0m\u001b[1;33m]\u001b[0m\u001b[1;33m:\u001b[0m\u001b[1;33m\u001b[0m\u001b[0m\n\u001b[1;32m---> 77\u001b[1;33m         \u001b[0msympyd\u001b[0m \u001b[1;33m=\u001b[0m \u001b[0mautowrap\u001b[0m\u001b[1;33m.\u001b[0m\u001b[0mautowrap\u001b[0m\u001b[1;33m(\u001b[0m\u001b[0msympy_expression\u001b[0m\u001b[1;33m,\u001b[0m \u001b[0mbackend\u001b[0m\u001b[1;33m=\u001b[0m\u001b[0mmode\u001b[0m\u001b[1;33m.\u001b[0m\u001b[0mlower\u001b[0m\u001b[1;33m(\u001b[0m\u001b[1;33m)\u001b[0m\u001b[1;33m,\u001b[0m \u001b[0margs\u001b[0m\u001b[1;33m=\u001b[0m\u001b[0mflattened\u001b[0m\u001b[1;33m)\u001b[0m\u001b[1;33m\u001b[0m\u001b[0m\n\u001b[0m\u001b[0;32m     78\u001b[0m     \u001b[1;32melse\u001b[0m\u001b[1;33m:\u001b[0m\u001b[1;33m\u001b[0m\u001b[0m\n\u001b[0;32m     79\u001b[0m         \u001b[1;32mraise\u001b[0m \u001b[0mException\u001b[0m\u001b[1;33m(\u001b[0m\u001b[1;34m'Mode for generation of sympy function {} not understood.'\u001b[0m\u001b[1;33m.\u001b[0m\u001b[0mformat\u001b[0m\u001b[1;33m(\u001b[0m\u001b[0mmode\u001b[0m\u001b[1;33m)\u001b[0m\u001b[1;33m)\u001b[0m\u001b[1;33m\u001b[0m\u001b[0m\n",
      "\u001b[1;32mC:\\Users\\Jon\\Anaconda2\\lib\\site-packages\\sympy\\utilities\\autowrap.pyc\u001b[0m in \u001b[0;36mautowrap\u001b[1;34m(expr, language, backend, tempdir, args, flags, verbose, helpers)\u001b[0m\n\u001b[0;32m    506\u001b[0m         \u001b[0mhelps\u001b[0m\u001b[1;33m.\u001b[0m\u001b[0mappend\u001b[0m\u001b[1;33m(\u001b[0m\u001b[0mmake_routine\u001b[0m\u001b[1;33m(\u001b[0m\u001b[0mname\u001b[0m\u001b[1;33m,\u001b[0m \u001b[0mexpr\u001b[0m\u001b[1;33m,\u001b[0m \u001b[0margs\u001b[0m\u001b[1;33m)\u001b[0m\u001b[1;33m)\u001b[0m\u001b[1;33m\u001b[0m\u001b[0m\n\u001b[0;32m    507\u001b[0m \u001b[1;33m\u001b[0m\u001b[0m\n\u001b[1;32m--> 508\u001b[1;33m     \u001b[1;32mreturn\u001b[0m \u001b[0mcode_wrapper\u001b[0m\u001b[1;33m.\u001b[0m\u001b[0mwrap_code\u001b[0m\u001b[1;33m(\u001b[0m\u001b[0mroutine\u001b[0m\u001b[1;33m,\u001b[0m \u001b[0mhelpers\u001b[0m\u001b[1;33m=\u001b[0m\u001b[0mhelps\u001b[0m\u001b[1;33m)\u001b[0m\u001b[1;33m\u001b[0m\u001b[0m\n\u001b[0m\u001b[0;32m    509\u001b[0m \u001b[1;33m\u001b[0m\u001b[0m\n\u001b[0;32m    510\u001b[0m \u001b[1;33m\u001b[0m\u001b[0m\n",
      "\u001b[1;32mC:\\Users\\Jon\\Anaconda2\\lib\\site-packages\\sympy\\utilities\\autowrap.pyc\u001b[0m in \u001b[0;36mwrap_code\u001b[1;34m(self, routine, helpers)\u001b[0m\n\u001b[0;32m    149\u001b[0m             \u001b[0mos\u001b[0m\u001b[1;33m.\u001b[0m\u001b[0mchdir\u001b[0m\u001b[1;33m(\u001b[0m\u001b[0moldwork\u001b[0m\u001b[1;33m)\u001b[0m\u001b[1;33m\u001b[0m\u001b[0m\n\u001b[0;32m    150\u001b[0m             \u001b[1;32mif\u001b[0m \u001b[1;32mnot\u001b[0m \u001b[0mself\u001b[0m\u001b[1;33m.\u001b[0m\u001b[0mfilepath\u001b[0m\u001b[1;33m:\u001b[0m\u001b[1;33m\u001b[0m\u001b[0m\n\u001b[1;32m--> 151\u001b[1;33m                 \u001b[0mshutil\u001b[0m\u001b[1;33m.\u001b[0m\u001b[0mrmtree\u001b[0m\u001b[1;33m(\u001b[0m\u001b[0mworkdir\u001b[0m\u001b[1;33m)\u001b[0m\u001b[1;33m\u001b[0m\u001b[0m\n\u001b[0m\u001b[0;32m    152\u001b[0m \u001b[1;33m\u001b[0m\u001b[0m\n\u001b[0;32m    153\u001b[0m         \u001b[1;32mreturn\u001b[0m \u001b[0mself\u001b[0m\u001b[1;33m.\u001b[0m\u001b[0m_get_wrapped_function\u001b[0m\u001b[1;33m(\u001b[0m\u001b[0mmod\u001b[0m\u001b[1;33m,\u001b[0m \u001b[0mroutine\u001b[0m\u001b[1;33m.\u001b[0m\u001b[0mname\u001b[0m\u001b[1;33m)\u001b[0m\u001b[1;33m\u001b[0m\u001b[0m\n",
      "\u001b[1;32mC:\\Users\\Jon\\Anaconda2\\lib\\shutil.pyc\u001b[0m in \u001b[0;36mrmtree\u001b[1;34m(path, ignore_errors, onerror)\u001b[0m\n\u001b[0;32m    250\u001b[0m                 \u001b[0mos\u001b[0m\u001b[1;33m.\u001b[0m\u001b[0mremove\u001b[0m\u001b[1;33m(\u001b[0m\u001b[0mfullname\u001b[0m\u001b[1;33m)\u001b[0m\u001b[1;33m\u001b[0m\u001b[0m\n\u001b[0;32m    251\u001b[0m             \u001b[1;32mexcept\u001b[0m \u001b[0mos\u001b[0m\u001b[1;33m.\u001b[0m\u001b[0merror\u001b[0m\u001b[1;33m,\u001b[0m \u001b[0merr\u001b[0m\u001b[1;33m:\u001b[0m\u001b[1;33m\u001b[0m\u001b[0m\n\u001b[1;32m--> 252\u001b[1;33m                 \u001b[0monerror\u001b[0m\u001b[1;33m(\u001b[0m\u001b[0mos\u001b[0m\u001b[1;33m.\u001b[0m\u001b[0mremove\u001b[0m\u001b[1;33m,\u001b[0m \u001b[0mfullname\u001b[0m\u001b[1;33m,\u001b[0m \u001b[0msys\u001b[0m\u001b[1;33m.\u001b[0m\u001b[0mexc_info\u001b[0m\u001b[1;33m(\u001b[0m\u001b[1;33m)\u001b[0m\u001b[1;33m)\u001b[0m\u001b[1;33m\u001b[0m\u001b[0m\n\u001b[0m\u001b[0;32m    253\u001b[0m     \u001b[1;32mtry\u001b[0m\u001b[1;33m:\u001b[0m\u001b[1;33m\u001b[0m\u001b[0m\n\u001b[0;32m    254\u001b[0m         \u001b[0mos\u001b[0m\u001b[1;33m.\u001b[0m\u001b[0mrmdir\u001b[0m\u001b[1;33m(\u001b[0m\u001b[0mpath\u001b[0m\u001b[1;33m)\u001b[0m\u001b[1;33m\u001b[0m\u001b[0m\n",
      "\u001b[1;32mC:\\Users\\Jon\\Anaconda2\\lib\\shutil.pyc\u001b[0m in \u001b[0;36mrmtree\u001b[1;34m(path, ignore_errors, onerror)\u001b[0m\n\u001b[0;32m    248\u001b[0m         \u001b[1;32melse\u001b[0m\u001b[1;33m:\u001b[0m\u001b[1;33m\u001b[0m\u001b[0m\n\u001b[0;32m    249\u001b[0m             \u001b[1;32mtry\u001b[0m\u001b[1;33m:\u001b[0m\u001b[1;33m\u001b[0m\u001b[0m\n\u001b[1;32m--> 250\u001b[1;33m                 \u001b[0mos\u001b[0m\u001b[1;33m.\u001b[0m\u001b[0mremove\u001b[0m\u001b[1;33m(\u001b[0m\u001b[0mfullname\u001b[0m\u001b[1;33m)\u001b[0m\u001b[1;33m\u001b[0m\u001b[0m\n\u001b[0m\u001b[0;32m    251\u001b[0m             \u001b[1;32mexcept\u001b[0m \u001b[0mos\u001b[0m\u001b[1;33m.\u001b[0m\u001b[0merror\u001b[0m\u001b[1;33m,\u001b[0m \u001b[0merr\u001b[0m\u001b[1;33m:\u001b[0m\u001b[1;33m\u001b[0m\u001b[0m\n\u001b[0;32m    252\u001b[0m                 \u001b[0monerror\u001b[0m\u001b[1;33m(\u001b[0m\u001b[0mos\u001b[0m\u001b[1;33m.\u001b[0m\u001b[0mremove\u001b[0m\u001b[1;33m,\u001b[0m \u001b[0mfullname\u001b[0m\u001b[1;33m,\u001b[0m \u001b[0msys\u001b[0m\u001b[1;33m.\u001b[0m\u001b[0mexc_info\u001b[0m\u001b[1;33m(\u001b[0m\u001b[1;33m)\u001b[0m\u001b[1;33m)\u001b[0m\u001b[1;33m\u001b[0m\u001b[0m\n",
      "\u001b[1;31mWindowsError\u001b[0m: [Error 5] Access is denied: 'c:\\\\users\\\\jon\\\\appdata\\\\local\\\\temp\\\\tmptmf3gv_sympy_compile\\\\wrapper_module_0.pyd'"
     ]
    }
   ],
   "source": [
    "ops = [A, B_1, B_2]\n",
    "ops_bar = [Abar, B_1_bar, B_2_bar]\n",
    "op_cache = bpdes.operator_compilation.compile_sympy(ops, ops_bar, k_sqexp, [[x_1, x_2], [y_1, y_2], thetas], mode='cython')\n",
    "#op_cache = compiled_oc"
   ]
  },
  {
   "cell_type": "code",
   "execution_count": 7,
   "metadata": {
    "collapsed": false
   },
   "outputs": [],
   "source": [
    "all_x, all_y = np.mgrid[0:1:11j, 0:1:11j]\n",
    "all = np.c_[all_x.ravel(), all_y.ravel()]\n",
    "neumann_flags = ((all[:,0] == 0) | (all[:,0] == 1)) & (all[:,1] != 0) & (all[:,1] != 1)\n",
    "dirichlet_flags = ((all[:,1] == 0) | (all[:,1] == 1))\n",
    "interior_flags = ~neumann_flags & ~dirichlet_flags\n",
    "dirichlet = all[dirichlet_flags, :]\n",
    "neumann = all[neumann_flags, :]\n",
    "interior = all[interior_flags, :]"
   ]
  },
  {
   "cell_type": "code",
   "execution_count": 8,
   "metadata": {
    "collapsed": false
   },
   "outputs": [],
   "source": [
    "interior_obs = np.zeros((interior.shape[0], 1))\n",
    "\n",
    "dirichlet_obs = dirichlet[:,0].copy()\n",
    "dirichlet_obs[dirichlet[:,1] == 1] = 1-dirichlet_obs[dirichlet[:,1] == 1]\n",
    "dirichlet_obs = dirichlet_obs[:,None]\n",
    "\n",
    "neumann_obs = np.zeros((neumann.shape[0], 1))\n",
    "\n",
    "obs = [\n",
    "    (interior, interior_obs),\n",
    "    (dirichlet, dirichlet_obs),\n",
    "    (neumann, neumann_obs)\n",
    "]"
   ]
  },
  {
   "cell_type": "code",
   "execution_count": 17,
   "metadata": {
    "collapsed": false
   },
   "outputs": [
    {
     "ename": "TypeError",
     "evalue": "collocate() got an unexpected keyword argument 'mode'",
     "output_type": "error",
     "traceback": [
      "\u001b[1;31m---------------------------------------------------------------------------\u001b[0m",
      "\u001b[1;31mTypeError\u001b[0m                                 Traceback (most recent call last)",
      "\u001b[1;32m<ipython-input-17-c6cf553e5be4>\u001b[0m in \u001b[0;36m<module>\u001b[1;34m()\u001b[0m\n\u001b[0;32m      1\u001b[0m \u001b[0mtrue_theta\u001b[0m \u001b[1;33m=\u001b[0m \u001b[0mnp\u001b[0m\u001b[1;33m.\u001b[0m\u001b[0mones\u001b[0m\u001b[1;33m(\u001b[0m\u001b[0mS\u001b[0m\u001b[1;33m)\u001b[0m\u001b[1;33m\u001b[0m\u001b[0m\n\u001b[0;32m      2\u001b[0m \u001b[1;33m\u001b[0m\u001b[0m\n\u001b[1;32m----> 3\u001b[1;33m \u001b[0mposterior\u001b[0m \u001b[1;33m=\u001b[0m \u001b[0mbpdes\u001b[0m\u001b[1;33m.\u001b[0m\u001b[0mcollocate\u001b[0m\u001b[1;33m(\u001b[0m\u001b[0mops\u001b[0m\u001b[1;33m,\u001b[0m \u001b[0mops_bar\u001b[0m\u001b[1;33m,\u001b[0m \u001b[0mNone\u001b[0m\u001b[1;33m,\u001b[0m \u001b[0mNone\u001b[0m\u001b[1;33m,\u001b[0m \u001b[0mobs\u001b[0m\u001b[1;33m,\u001b[0m \u001b[0mop_cache\u001b[0m\u001b[1;33m,\u001b[0m \u001b[0mfun_args\u001b[0m\u001b[1;33m=\u001b[0m\u001b[1;33m[\u001b[0m\u001b[0mtrue_theta\u001b[0m\u001b[1;33m]\u001b[0m\u001b[1;33m,\u001b[0m \u001b[0mmode\u001b[0m\u001b[1;33m=\u001b[0m\u001b[1;34m'cython'\u001b[0m\u001b[1;33m)\u001b[0m\u001b[1;33m\u001b[0m\u001b[0m\n\u001b[0m",
      "\u001b[1;31mTypeError\u001b[0m: collocate() got an unexpected keyword argument 'mode'"
     ]
    }
   ],
   "source": [
    "true_theta = np.ones(S)\n",
    "\n",
    "posterior = bpdes.collocate(ops, ops_bar, None, None, obs, op_cache, fun_args=[true_theta])"
   ]
  },
  {
   "cell_type": "code",
   "execution_count": 10,
   "metadata": {
    "collapsed": false
   },
   "outputs": [],
   "source": [
    "test_x, test_y = np.mgrid[0:1:40j,0:1:40j]\n",
    "mu, Sigma = posterior(np.c_[test_x.ravel(), test_y.ravel()])\n",
    "mu_shaped = mu.reshape(test_x.shape)"
   ]
  },
  {
   "cell_type": "code",
   "execution_count": 11,
   "metadata": {
    "collapsed": false
   },
   "outputs": [
    {
     "data": {
      "image/png": "[encoded data removed]",
      "text/plain": [
       "<matplotlib.figure.Figure at 0x85c3b70>"
      ]
     },
     "metadata": {},
     "output_type": "display_data"
    }
   ],
   "source": [
    "plt.figure(figsize=(8,8))\n",
    "import matplotlib.tri as tri\n",
    "#plt.tripcolor(test_x.ravel(), test_y.ravel(), mu.ravel())\n",
    "colors = plt.contourf(test_x, test_y, mu_shaped,  250)\n",
    "plt.colorbar(colors)\n",
    "plt.scatter(interior[:,0], interior[:,1],  marker='x', c='black', s=50, label='Interior Points')\n",
    "plt.scatter(neumann[:,0], neumann[:,1], marker='^', c='black', clip_on=False, s=50, label='Neumann BC Points')\n",
    "plt.scatter(dirichlet[:,0], dirichlet[:,1], marker='o', c='black', clip_on=False, s=50, label='Dirichlet BC Points')\n",
    "plt.legend()\n",
    "plt.axis('scaled')\n",
    "plt.xlim(0,1); plt.ylim(0,1);\n",
    "plt.gcf().patch.set_alpha(0.0)\n",
    "plt.savefig('pn_kl.pdf', bbox_inches='tight')"
   ]
  },
  {
   "cell_type": "code",
   "execution_count": 12,
   "metadata": {
    "collapsed": true
   },
   "outputs": [],
   "source": [
    "from scipy import stats\n",
    "def propose(current):\n",
    "    return np.random.normal(current, proposal_sigma)\n",
    "def proposal_proba(proposal, current):\n",
    "    return stats.multivariate_normal.logpdf(proposal, current, proposal_sigma)\n",
    "def log_likelihood(theta):\n",
    "    posterior = bpdes.collocate(ops, ops_bar, None, None, obs, op_cache, [theta])\n",
    "    mu,cov = posterior(true_x)\n",
    "    mu = mu.reshape((len(mu), 1))\n",
    "    cov_with_error = cov + likelihood_sigma**2*np.eye(cov.shape[0])\n",
    "    return stats.multivariate_normal.logpdf(mu.ravel(), true_u.ravel(), cov_with_error)\n",
    "def log_prior_lognormal(theta):\n",
    "    if np.any(theta <= 0): return np.log(0)\n",
    "    p = stats.norm.logpdf(np.log(theta), np.ones_like(theta), 1.) - np.log(theta)\n",
    "    return np.sum(p)\n",
    "def log_prior_normal(theta):\n",
    "    p = stats.norm.logpdf(theta, np.zeros_like(theta), 1.)\n",
    "    return np.sum(p)\n",
    "def log_prior_uniform(theta):\n",
    "    theta_min = -10.\n",
    "    theta_max = 10.\n",
    "    if any((theta < theta_min) | (theta > theta_max)):\n",
    "        return np.log(0)\n",
    "    return len(theta)*np.log(1./(theta_max-theta_min))"
   ]
  },
  {
   "cell_type": "code",
   "execution_count": 15,
   "metadata": {
    "collapsed": false
   },
   "outputs": [
    {
     "data": {
      "image/png": "[encoded data removed]",
      "text/latex": [
       "$$100.349235653$$"
      ],
      "text/plain": [
       "100.349235653"
      ]
     },
     "execution_count": 15,
     "metadata": {},
     "output_type": "execute_result"
    }
   ],
   "source": [
    "init_theta = np.ones(S)\n",
    "likelihood_sigma = 0.01\n",
    "proposal_sigma = 0.1\n",
    "log_likelihood(init_theta)"
   ]
  },
  {
   "cell_type": "code",
   "execution_count": 16,
   "metadata": {
    "collapsed": false
   },
   "outputs": [
    {
     "ename": "KeyboardInterrupt",
     "evalue": "",
     "output_type": "error",
     "traceback": [
      "\u001b[1;31m---------------------------------------------------------------------------\u001b[0m",
      "\u001b[1;31mKeyboardInterrupt\u001b[0m                         Traceback (most recent call last)",
      "\u001b[1;32m<ipython-input-16-d665bd7a88cc>\u001b[0m in \u001b[0;36m<module>\u001b[1;34m()\u001b[0m\n\u001b[0;32m      1\u001b[0m \u001b[1;33m\u001b[0m\u001b[0m\n\u001b[1;32m----> 2\u001b[1;33m \u001b[0mmcmc\u001b[0m\u001b[1;33m.\u001b[0m\u001b[0mrwm\u001b[0m\u001b[1;33m(\u001b[0m\u001b[1;36m5000\u001b[0m\u001b[1;33m,\u001b[0m \u001b[0mpropose\u001b[0m\u001b[1;33m,\u001b[0m \u001b[0mlog_likelihood\u001b[0m\u001b[1;33m,\u001b[0m \u001b[0mlog_prior_uniform\u001b[0m\u001b[1;33m,\u001b[0m \u001b[0minit_theta\u001b[0m\u001b[1;33m)\u001b[0m\u001b[1;33m\u001b[0m\u001b[0m\n\u001b[0m",
      "\u001b[1;32mc:\\users\\jon\\coding\\mcmc\\mcmc\\rwm.py\u001b[0m in \u001b[0;36mrwm\u001b[1;34m(iterations, propose, log_likelihood, log_prior, init_theta, progress_object)\u001b[0m\n\u001b[0;32m     23\u001b[0m     \u001b[1;32mfor\u001b[0m \u001b[0mi\u001b[0m \u001b[1;32min\u001b[0m \u001b[0mxrange\u001b[0m\u001b[1;33m(\u001b[0m\u001b[0miterations\u001b[0m\u001b[1;33m)\u001b[0m\u001b[1;33m:\u001b[0m\u001b[1;33m\u001b[0m\u001b[0m\n\u001b[0;32m     24\u001b[0m         \u001b[0mnew_theta\u001b[0m \u001b[1;33m=\u001b[0m \u001b[0mpropose\u001b[0m\u001b[1;33m(\u001b[0m\u001b[0mcur_theta\u001b[0m\u001b[1;33m)\u001b[0m\u001b[1;33m\u001b[0m\u001b[0m\n\u001b[1;32m---> 25\u001b[1;33m         \u001b[0mnew_log_likelihood\u001b[0m \u001b[1;33m=\u001b[0m \u001b[0mas_single_number\u001b[0m\u001b[1;33m(\u001b[0m\u001b[0mlog_likelihood\u001b[0m\u001b[1;33m(\u001b[0m\u001b[0mnew_theta\u001b[0m\u001b[1;33m)\u001b[0m\u001b[1;33m)\u001b[0m\u001b[1;33m\u001b[0m\u001b[0m\n\u001b[0m\u001b[0;32m     26\u001b[0m         \u001b[0mnew_log_prior\u001b[0m \u001b[1;33m=\u001b[0m \u001b[0mas_single_number\u001b[0m\u001b[1;33m(\u001b[0m\u001b[0mlog_prior\u001b[0m\u001b[1;33m(\u001b[0m\u001b[0mnew_theta\u001b[0m\u001b[1;33m)\u001b[0m\u001b[1;33m)\u001b[0m\u001b[1;33m\u001b[0m\u001b[0m\n\u001b[0;32m     27\u001b[0m \u001b[1;33m\u001b[0m\u001b[0m\n",
      "\u001b[1;32m<ipython-input-12-12758cb84324>\u001b[0m in \u001b[0;36mlog_likelihood\u001b[1;34m(theta)\u001b[0m\n\u001b[0;32m      5\u001b[0m     \u001b[1;32mreturn\u001b[0m \u001b[0mstats\u001b[0m\u001b[1;33m.\u001b[0m\u001b[0mmultivariate_normal\u001b[0m\u001b[1;33m.\u001b[0m\u001b[0mlogpdf\u001b[0m\u001b[1;33m(\u001b[0m\u001b[0mproposal\u001b[0m\u001b[1;33m,\u001b[0m \u001b[0mcurrent\u001b[0m\u001b[1;33m,\u001b[0m \u001b[0mproposal_sigma\u001b[0m\u001b[1;33m)\u001b[0m\u001b[1;33m\u001b[0m\u001b[0m\n\u001b[0;32m      6\u001b[0m \u001b[1;32mdef\u001b[0m \u001b[0mlog_likelihood\u001b[0m\u001b[1;33m(\u001b[0m\u001b[0mtheta\u001b[0m\u001b[1;33m)\u001b[0m\u001b[1;33m:\u001b[0m\u001b[1;33m\u001b[0m\u001b[0m\n\u001b[1;32m----> 7\u001b[1;33m     \u001b[0mposterior\u001b[0m \u001b[1;33m=\u001b[0m \u001b[0mbpdes\u001b[0m\u001b[1;33m.\u001b[0m\u001b[0mcollocate\u001b[0m\u001b[1;33m(\u001b[0m\u001b[0mops\u001b[0m\u001b[1;33m,\u001b[0m \u001b[0mops_bar\u001b[0m\u001b[1;33m,\u001b[0m \u001b[0mNone\u001b[0m\u001b[1;33m,\u001b[0m \u001b[0mNone\u001b[0m\u001b[1;33m,\u001b[0m \u001b[0mobs\u001b[0m\u001b[1;33m,\u001b[0m \u001b[0mop_cache\u001b[0m\u001b[1;33m,\u001b[0m \u001b[1;33m[\u001b[0m\u001b[0mtheta\u001b[0m\u001b[1;33m]\u001b[0m\u001b[1;33m)\u001b[0m\u001b[1;33m\u001b[0m\u001b[0m\n\u001b[0m\u001b[0;32m      8\u001b[0m     \u001b[0mmu\u001b[0m\u001b[1;33m,\u001b[0m\u001b[0mcov\u001b[0m \u001b[1;33m=\u001b[0m \u001b[0mposterior\u001b[0m\u001b[1;33m(\u001b[0m\u001b[0mtrue_x\u001b[0m\u001b[1;33m)\u001b[0m\u001b[1;33m\u001b[0m\u001b[0m\n\u001b[0;32m      9\u001b[0m     \u001b[0mmu\u001b[0m \u001b[1;33m=\u001b[0m \u001b[0mmu\u001b[0m\u001b[1;33m.\u001b[0m\u001b[0mreshape\u001b[0m\u001b[1;33m(\u001b[0m\u001b[1;33m(\u001b[0m\u001b[0mlen\u001b[0m\u001b[1;33m(\u001b[0m\u001b[0mmu\u001b[0m\u001b[1;33m)\u001b[0m\u001b[1;33m,\u001b[0m \u001b[1;36m1\u001b[0m\u001b[1;33m)\u001b[0m\u001b[1;33m)\u001b[0m\u001b[1;33m\u001b[0m\u001b[0m\n",
      "\u001b[1;32mc:\\users\\jon\\coding\\bayesian_pdes\\bayesian_pdes\\collocation.pyc\u001b[0m in \u001b[0;36mcollocate\u001b[1;34m(operators, operators_bar, k, symbols, observations, op_cache, fun_args)\u001b[0m\n\u001b[0;32m     31\u001b[0m         \u001b[0mop_cache\u001b[0m \u001b[1;33m=\u001b[0m \u001b[0moperator_compilation\u001b[0m\u001b[1;33m.\u001b[0m\u001b[0mcompile_sympy\u001b[0m\u001b[1;33m(\u001b[0m\u001b[0moperators\u001b[0m\u001b[1;33m,\u001b[0m \u001b[0moperators_bar\u001b[0m\u001b[1;33m,\u001b[0m \u001b[0mk\u001b[0m\u001b[1;33m,\u001b[0m \u001b[0msymbols\u001b[0m\u001b[1;33m)\u001b[0m\u001b[1;33m\u001b[0m\u001b[0m\n\u001b[0;32m     32\u001b[0m \u001b[1;33m\u001b[0m\u001b[0m\n\u001b[1;32m---> 33\u001b[1;33m     \u001b[0mLLbar\u001b[0m \u001b[1;33m=\u001b[0m \u001b[0mcalc_LLbar\u001b[0m\u001b[1;33m(\u001b[0m\u001b[0moperators\u001b[0m\u001b[1;33m,\u001b[0m \u001b[0moperators_bar\u001b[0m\u001b[1;33m,\u001b[0m \u001b[0mobservations\u001b[0m\u001b[1;33m,\u001b[0m \u001b[0mop_cache\u001b[0m\u001b[1;33m,\u001b[0m \u001b[0mfun_args\u001b[0m\u001b[1;33m)\u001b[0m\u001b[1;33m\u001b[0m\u001b[0m\n\u001b[0m\u001b[0;32m     34\u001b[0m     \u001b[1;31m# optimization - if the returned object has an inv() method then use that\u001b[0m\u001b[1;33m\u001b[0m\u001b[1;33m\u001b[0m\u001b[0m\n\u001b[0;32m     35\u001b[0m     \u001b[1;31m# this is to make use of things like the kronecker inverse formula\u001b[0m\u001b[1;33m\u001b[0m\u001b[1;33m\u001b[0m\u001b[0m\n",
      "\u001b[1;32mc:\\users\\jon\\coding\\bayesian_pdes\\bayesian_pdes\\collocation.pyc\u001b[0m in \u001b[0;36mcalc_LLbar\u001b[1;34m(operators, operators_bar, observations, op_cache, fun_args)\u001b[0m\n\u001b[0;32m     60\u001b[0m             \u001b[0mfun_op\u001b[0m \u001b[1;33m=\u001b[0m \u001b[0mop_cache\u001b[0m\u001b[1;33m[\u001b[0m\u001b[1;33m(\u001b[0m\u001b[0mop\u001b[0m\u001b[1;33m,\u001b[0m \u001b[0mop_bar\u001b[0m\u001b[1;33m)\u001b[0m\u001b[1;33m]\u001b[0m\u001b[1;33m\u001b[0m\u001b[0m\n\u001b[0;32m     61\u001b[0m \u001b[1;33m\u001b[0m\u001b[0m\n\u001b[1;32m---> 62\u001b[1;33m             \u001b[0mapplied\u001b[0m \u001b[1;33m=\u001b[0m \u001b[0mfun_op\u001b[0m\u001b[1;33m(\u001b[0m\u001b[0mpoints_1\u001b[0m\u001b[1;33m,\u001b[0m \u001b[0mpoints_2\u001b[0m\u001b[1;33m,\u001b[0m \u001b[1;33m*\u001b[0m\u001b[0mfun_args\u001b[0m\u001b[1;33m)\u001b[0m\u001b[1;33m\u001b[0m\u001b[0m\n\u001b[0m\u001b[0;32m     63\u001b[0m             \u001b[0mtmp\u001b[0m\u001b[1;33m.\u001b[0m\u001b[0mappend\u001b[0m\u001b[1;33m(\u001b[0m\u001b[0mapplied\u001b[0m\u001b[1;33m)\u001b[0m\u001b[1;33m\u001b[0m\u001b[0m\n\u001b[0;32m     64\u001b[0m         \u001b[0mLLbar\u001b[0m\u001b[1;33m.\u001b[0m\u001b[0mappend\u001b[0m\u001b[1;33m(\u001b[0m\u001b[0mnp\u001b[0m\u001b[1;33m.\u001b[0m\u001b[0mhstack\u001b[0m\u001b[1;33m(\u001b[0m\u001b[0mtmp\u001b[0m\u001b[1;33m)\u001b[0m\u001b[1;33m)\u001b[0m\u001b[1;33m\u001b[0m\u001b[0m\n",
      "\u001b[1;32mc:\\users\\jon\\coding\\bayesian_pdes\\bayesian_pdes\\operator_compilation.pyc\u001b[0m in \u001b[0;36m__ret_function\u001b[1;34m(a, b, extra)\u001b[0m\n\u001b[0;32m     38\u001b[0m \u001b[1;33m\u001b[0m\u001b[0m\n\u001b[0;32m     39\u001b[0m     \u001b[1;32mdef\u001b[0m \u001b[0m__ret_function\u001b[0m\u001b[1;33m(\u001b[0m\u001b[0ma\u001b[0m\u001b[1;33m,\u001b[0m \u001b[0mb\u001b[0m\u001b[1;33m,\u001b[0m \u001b[0mextra\u001b[0m\u001b[1;33m=\u001b[0m\u001b[0mNone\u001b[0m\u001b[1;33m)\u001b[0m\u001b[1;33m:\u001b[0m\u001b[1;33m\u001b[0m\u001b[0m\n\u001b[1;32m---> 40\u001b[1;33m         \u001b[1;32mreturn\u001b[0m \u001b[0mpairwise\u001b[0m\u001b[1;33m.\u001b[0m\u001b[0mapply\u001b[0m\u001b[1;33m(\u001b[0m\u001b[0msympy_fun\u001b[0m\u001b[1;33m,\u001b[0m \u001b[0ma\u001b[0m\u001b[1;33m,\u001b[0m \u001b[0mb\u001b[0m\u001b[1;33m,\u001b[0m \u001b[0mextra\u001b[0m\u001b[1;33m)\u001b[0m\u001b[1;33m\u001b[0m\u001b[0m\n\u001b[0m\u001b[0;32m     41\u001b[0m \u001b[1;33m\u001b[0m\u001b[0m\n\u001b[0;32m     42\u001b[0m     \u001b[1;32mreturn\u001b[0m \u001b[0m__ret_function\u001b[0m\u001b[1;33m\u001b[0m\u001b[0m\n",
      "\u001b[1;32mc:\\users\\jon\\coding\\bayesian_pdes\\bayesian_pdes\\pairwise.pyx\u001b[0m in \u001b[0;36mbayesian_pdes.pairwise.apply (bayesian_pdes/pairwise.c:1543)\u001b[1;34m()\u001b[0m\n\u001b[0;32m      9\u001b[0m     \u001b[1;32mfor\u001b[0m \u001b[0mi\u001b[0m \u001b[1;32min\u001b[0m \u001b[0mxrange\u001b[0m\u001b[1;33m(\u001b[0m\u001b[0mA\u001b[0m\u001b[1;33m.\u001b[0m\u001b[0mshape\u001b[0m\u001b[1;33m[\u001b[0m\u001b[1;36m0\u001b[0m\u001b[1;33m]\u001b[0m\u001b[1;33m)\u001b[0m\u001b[1;33m:\u001b[0m\u001b[1;33m\u001b[0m\u001b[0m\n\u001b[0;32m     10\u001b[0m         \u001b[1;32mfor\u001b[0m \u001b[0mj\u001b[0m \u001b[1;32min\u001b[0m \u001b[0mxrange\u001b[0m\u001b[1;33m(\u001b[0m\u001b[0mB\u001b[0m\u001b[1;33m.\u001b[0m\u001b[0mshape\u001b[0m\u001b[1;33m[\u001b[0m\u001b[1;36m0\u001b[0m\u001b[1;33m]\u001b[0m\u001b[1;33m)\u001b[0m\u001b[1;33m:\u001b[0m\u001b[1;33m\u001b[0m\u001b[0m\n\u001b[1;32m---> 11\u001b[1;33m             \u001b[0mret\u001b[0m\u001b[1;33m[\u001b[0m\u001b[0mi\u001b[0m\u001b[1;33m,\u001b[0m\u001b[0mj\u001b[0m\u001b[1;33m]\u001b[0m \u001b[1;33m=\u001b[0m \u001b[0mfun\u001b[0m\u001b[1;33m(\u001b[0m\u001b[0mA\u001b[0m\u001b[1;33m[\u001b[0m\u001b[0mi\u001b[0m\u001b[1;33m,\u001b[0m\u001b[1;33m:\u001b[0m\u001b[1;33m]\u001b[0m\u001b[1;33m,\u001b[0m \u001b[0mB\u001b[0m\u001b[1;33m[\u001b[0m\u001b[0mj\u001b[0m\u001b[1;33m,\u001b[0m\u001b[1;33m:\u001b[0m\u001b[1;33m]\u001b[0m\u001b[1;33m)\u001b[0m \u001b[1;32mif\u001b[0m \u001b[0mextra\u001b[0m \u001b[1;32mis\u001b[0m \u001b[0mNone\u001b[0m \u001b[1;32melse\u001b[0m \u001b[0mfun\u001b[0m\u001b[1;33m(\u001b[0m\u001b[0mA\u001b[0m\u001b[1;33m[\u001b[0m\u001b[0mi\u001b[0m\u001b[1;33m,\u001b[0m\u001b[1;33m:\u001b[0m\u001b[1;33m]\u001b[0m\u001b[1;33m,\u001b[0m \u001b[0mB\u001b[0m\u001b[1;33m[\u001b[0m\u001b[0mj\u001b[0m\u001b[1;33m,\u001b[0m\u001b[1;33m:\u001b[0m\u001b[1;33m]\u001b[0m\u001b[1;33m,\u001b[0m \u001b[0mextra\u001b[0m\u001b[1;33m)\u001b[0m\u001b[1;33m\u001b[0m\u001b[0m\n\u001b[0m\u001b[0;32m     12\u001b[0m     \u001b[1;32mreturn\u001b[0m \u001b[0mret\u001b[0m\u001b[1;33m\u001b[0m\u001b[0m\n",
      "\u001b[1;32mc:\\users\\jon\\coding\\bayesian_pdes\\bayesian_pdes\\sympy_helpers.pyc\u001b[0m in \u001b[0;36m__apply_two_arg\u001b[1;34m(*args)\u001b[0m\n\u001b[0;32m     12\u001b[0m     \u001b[1;31m# this is unsafe!\u001b[0m\u001b[1;33m\u001b[0m\u001b[1;33m\u001b[0m\u001b[0m\n\u001b[0;32m     13\u001b[0m     \u001b[1;32mdef\u001b[0m \u001b[0m__apply_two_arg\u001b[0m\u001b[1;33m(\u001b[0m\u001b[1;33m*\u001b[0m\u001b[0margs\u001b[0m\u001b[1;33m)\u001b[0m\u001b[1;33m:\u001b[0m\u001b[1;33m\u001b[0m\u001b[0m\n\u001b[1;32m---> 14\u001b[1;33m         \u001b[0mret\u001b[0m \u001b[1;33m=\u001b[0m \u001b[0mcompiled_func\u001b[0m\u001b[1;33m(\u001b[0m\u001b[1;33m*\u001b[0m\u001b[0mnp\u001b[0m\u001b[1;33m.\u001b[0m\u001b[0mconcatenate\u001b[0m\u001b[1;33m(\u001b[0m\u001b[0margs\u001b[0m\u001b[1;33m)\u001b[0m\u001b[1;33m)\u001b[0m\u001b[1;33m\u001b[0m\u001b[0m\n\u001b[0m\u001b[0;32m     15\u001b[0m         \u001b[1;32mreturn\u001b[0m \u001b[0mret\u001b[0m\u001b[1;33m\u001b[0m\u001b[0m\n\u001b[0;32m     16\u001b[0m \u001b[1;33m\u001b[0m\u001b[0m\n",
      "\u001b[1;32mC:\\Users\\Jon\\Anaconda2\\lib\\site-packages\\numpy\\__init__.pyc\u001b[0m in \u001b[0;36m<lambda>\u001b[1;34m(_Dummy_147, _Dummy_148, _Dummy_149, _Dummy_150, _Dummy_151, _Dummy_152, _Dummy_153, _Dummy_154, _Dummy_155, _Dummy_156)\u001b[0m\n",
      "\u001b[1;31mKeyboardInterrupt\u001b[0m: "
     ]
    }
   ],
   "source": [
    "\n",
    "mcmc.rwm(5000, propose, log_likelihood, log_prior_uniform, init_theta)\n"
   ]
  },
  {
   "cell_type": "code",
   "execution_count": null,
   "metadata": {
    "collapsed": false,
    "scrolled": false
   },
   "outputs": [],
   "source": [
    "plt.figure(figsize=(8,5))\n",
    "#print acceptances.sum() * 1./iterations\n",
    "thin= 1\n",
    "burn = 1000\n",
    "thinned_burned = mcmc_thetas[burn:-1:thin, :]\n",
    "for i in xrange(6):\n",
    "    plt.figure(figsize=(10,4))\n",
    "    plt.plot(thinned_burned[:,i], label='theta {}'.format(i+1))\n",
    "plt.legend(loc=2, bbox_to_anchor=(1.05,1))"
   ]
  },
  {
   "cell_type": "code",
   "execution_count": null,
   "metadata": {
    "collapsed": false
   },
   "outputs": [],
   "source": []
  },
  {
   "cell_type": "code",
   "execution_count": null,
   "metadata": {
    "collapsed": false,
    "scrolled": false
   },
   "outputs": [],
   "source": [
    "from pandas.tools.plotting import autocorrelation_plot\n",
    "for i in xrange(thinned_burned.shape[1]):\n",
    "    t = thinned_burned[:,i]\n",
    "    plt.figure(figsize=(8,4))\n",
    "    plt.subplot(121)\n",
    "    autocorrelation_plot(t, ax=plt.gca())\n",
    "    plt.subplot(122)\n",
    "    plt.hist(t, bins=20)\n",
    "    plt.axvline(t.mean(), linestyle='--', c='gray')"
   ]
  },
  {
   "cell_type": "code",
   "execution_count": null,
   "metadata": {
    "collapsed": true
   },
   "outputs": [],
   "source": [
    "import math\n",
    "def integers_between(min, max):\n",
    "    min_int = int(math.floor(min))\n",
    "    max_int = int(math.ceil(max))\n",
    "    print min_int, max_int\n",
    "    return range(min_int, max_int+1)"
   ]
  },
  {
   "cell_type": "code",
   "execution_count": null,
   "metadata": {
    "collapsed": false
   },
   "outputs": [],
   "source": [
    "from matplotlib import gridspec\n",
    "from scipy import stats\n",
    "plt.figure(figsize=(8,8))\n",
    "diag = []\n",
    "n = 6\n",
    "gs = gridspec.GridSpec(n, n)\n",
    "gs.update(wspace=0.025, hspace=0.05)\n",
    "\n",
    "#levels = [5,20,40,60]\n",
    "\n",
    "levels = None\n",
    "for i in range(n):\n",
    "    i_data = thinned_burned[:,i]\n",
    "    ax = plt.subplot(gs[n*i + i])\n",
    "    kde = stats.gaussian_kde(i_data)\n",
    "    eval_points = np.linspace(i_data.min()-0.1, i_data.max()+0.2, 100)\n",
    "    #plt.axvline(i_data.mean(), linestyle='--', color='gray')\n",
    "    plt.axvline(1, linestyle='--', color='gray')\n",
    "    #plt.axvline(-1, linestyle='--', color='gray')\n",
    "    plt.plot(eval_points, kde(eval_points))\n",
    "    plt.title('$\\\\theta_{}$'.format(i+1))\n",
    "    \n",
    "    \n",
    "    ax.get_yaxis().set_ticks([])\n",
    "    if i < n-1:\n",
    "        plt.setp(ax.get_xticklabels(), visible=False)\n",
    "    else:\n",
    "        plt.xticks(integers_between(i_data.min(), i_data.max())[::2])\n",
    "    for j in range(0,i):\n",
    "        j_data = thinned_burned[:,j]\n",
    "        subax = plt.subplot(gs[n*i+j], sharex=diag[j])\n",
    "        #H,xedges,yedges = np.histogram2d(j_data, i_data, bins=20)\n",
    "        kde = stats.gaussian_kde(np.c_[j_data, i_data].T, bw_method=0.35)\n",
    "        x,y = np.mgrid[j_data.min()-0.1:j_data.max()+0.1:100j, i_data.min()-0.1:i_data.max()+0.2:100j]\n",
    "        plt.contour(x, y, kde(np.c_[x.ravel(), y.ravel()].T).reshape(x.shape))\n",
    "        #plt.contour(xedges[:-1], yedges[:-1], H, levels=levels)\n",
    "        if j > 0:\n",
    "            subax.get_yaxis().set_ticks([])\n",
    "        if i < n-1:\n",
    "            plt.setp(subax.get_xticklabels(), visible=False)\n",
    "        else:\n",
    "            plt.xticks(integers_between(j_data.min(), j_data.max())[::2])\n",
    "        #plt.scatter([1,1,-1,-1],[1,-1,1,-1], marker='x', color='black', linewidth=2, zorder=10)\n",
    "        plt.scatter(1,1,marker='x', color='black')\n",
    "    diag.append(ax)\n",
    "    \n",
    "plt.gcf().patch.set_alpha(0)\n",
    "#plt.savefig('PN.pdf', bbox_inches='tight')\n",
    "plt.savefig('PN_{}.pdf'.format(seed), bbox_inches='tight')\n",
    "np.save('thetas_{}.npy'.format(seed), thetas)"
   ]
  },
  {
   "cell_type": "code",
   "execution_count": null,
   "metadata": {
    "collapsed": true
   },
   "outputs": [],
   "source": []
  },
  {
   "cell_type": "code",
   "execution_count": null,
   "metadata": {
    "collapsed": false
   },
   "outputs": [],
   "source": [
    "kde(np.c_[x.ravel(), y.ravel()].T).reshape(x.shape)"
   ]
  },
  {
   "cell_type": "code",
   "execution_count": null,
   "metadata": {
    "collapsed": false
   },
   "outputs": [],
   "source": [
    "np.c_[x.ravel(), y.ravel()]"
   ]
  },
  {
   "cell_type": "code",
   "execution_count": null,
   "metadata": {
    "collapsed": false
   },
   "outputs": [],
   "source": [
    "print H.shape, xedges.shape"
   ]
  },
  {
   "cell_type": "code",
   "execution_count": null,
   "metadata": {
    "collapsed": false
   },
   "outputs": [],
   "source": [
    "(H > 2).sum()"
   ]
  },
  {
   "cell_type": "code",
   "execution_count": null,
   "metadata": {
    "collapsed": false
   },
   "outputs": [],
   "source": [
    "(H > 10).sum()"
   ]
  },
  {
   "cell_type": "code",
   "execution_count": null,
   "metadata": {
    "collapsed": false
   },
   "outputs": [],
   "source": [
    "(H > 80).sum()"
   ]
  },
  {
   "cell_type": "code",
   "execution_count": null,
   "metadata": {
    "collapsed": true
   },
   "outputs": [],
   "source": [
    "np.save('pn_n=11.npy', thetas)"
   ]
  },
  {
   "cell_type": "code",
   "execution_count": null,
   "metadata": {
    "collapsed": false
   },
   "outputs": [],
   "source": [
    "np.exp(-last_likelihood - last_prior)"
   ]
  },
  {
   "cell_type": "code",
   "execution_count": null,
   "metadata": {
    "collapsed": false
   },
   "outputs": [],
   "source": [
    "np.exp(new_likelihood + new_prior)"
   ]
  },
  {
   "cell_type": "code",
   "execution_count": null,
   "metadata": {
    "collapsed": false
   },
   "outputs": [],
   "source": [
    "posterior = bpdes.collocate(ops, ops_bar, k, None, obs, op_cache, [cur_theta])\n",
    "mu,cov = posterior(true_x)"
   ]
  },
  {
   "cell_type": "code",
   "execution_count": null,
   "metadata": {
    "collapsed": false
   },
   "outputs": [],
   "source": [
    "np.dot(mu.ravel()-true_u, np.linalg.inv(cov+likelihood_sigma**2*np.eye(cov.shape[0]))).dot(mu.ravel()-true_u)"
   ]
  },
  {
   "cell_type": "code",
   "execution_count": null,
   "metadata": {
    "collapsed": false
   },
   "outputs": [],
   "source": [
    "np.exp(0.5*np.log(np.linalg.det(cov+likelihood_sigma**2*np.eye(cov.shape[0]))) + np.dot(mu.ravel()-true_u, np.linalg.inv(cov+likelihood_sigma**2*np.eye(cov.shape[0]))).dot(mu.ravel()-true_u))"
   ]
  }
 ],
 "metadata": {
  "kernelspec": {
   "display_name": "Python 2",
   "language": "python",
   "name": "python2"
  },
  "language_info": {
   "codemirror_mode": {
    "name": "ipython",
    "version": 2
   },
   "file_extension": ".py",
   "mimetype": "text/x-python",
   "name": "python",
   "nbconvert_exporter": "python",
   "pygments_lexer": "ipython2",
   "version": "2.7.11"
  }
 },
 "nbformat": 4,
 "nbformat_minor": 0
}
